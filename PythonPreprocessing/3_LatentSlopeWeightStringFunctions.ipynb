{
 "cells": [
  {
   "cell_type": "code",
   "execution_count": 1,
   "id": "192167bc-0299-4cc0-9de6-595bf1228930",
   "metadata": {},
   "outputs": [],
   "source": [
    "import pandas as pd\n",
    "full_df = pd.read_csv(\"../Data/JoinedData_6_26_2024__NotParcled.csv\")"
   ]
  },
  {
   "cell_type": "code",
   "execution_count": 2,
   "id": "2edbd8d7-e1dd-4e78-ac0f-c660bd032776",
   "metadata": {},
   "outputs": [],
   "source": [
    "df = full_df.copy(deep=True)#pd.read_csv(\"JoinedData_2_14_2024.csv\")"
   ]
  },
  {
   "cell_type": "code",
   "execution_count": 3,
   "id": "ce2c0701-3d08-4f9c-9fa7-d99738ca882c",
   "metadata": {},
   "outputs": [],
   "source": [
    "selected_columns = df.columns[df.columns.str.contains('age') & df.columns.str.contains('C')]"
   ]
  },
  {
   "cell_type": "code",
   "execution_count": 4,
   "id": "bd21ac70-54e1-4e65-8518-2e4f67e7c1b4",
   "metadata": {},
   "outputs": [],
   "source": [
    "LatentSlopeWeights_Part1 = df[selected_columns].mean().round(6)"
   ]
  },
  {
   "cell_type": "code",
   "execution_count": 5,
   "id": "a3bb0753-4d3a-4a64-8342-f413e2008c84",
   "metadata": {},
   "outputs": [],
   "source": [
    "FullTrajecoryAgeDiff = LatentSlopeWeights_Part1['C13xactage']-LatentSlopeWeights_Part1['C01xactage']"
   ]
  },
  {
   "cell_type": "code",
   "execution_count": 6,
   "id": "18223a1f-528c-469c-a774-aeffb406dc00",
   "metadata": {},
   "outputs": [],
   "source": [
    "MiddleOfFullTrajectoryAge = LatentSlopeWeights_Part1['C01xactage'] + FullTrajecoryAgeDiff/2"
   ]
  },
  {
   "cell_type": "code",
   "execution_count": 7,
   "id": "82964fac-20dd-4219-b4ce-7c55741d65ee",
   "metadata": {},
   "outputs": [
    {
     "data": {
      "text/plain": [
       "C01xactage   -0.764\n",
       "C02xactage   -0.666\n",
       "C03xactage   -0.569\n",
       "C04xactage   -0.470\n",
       "C05xactage   -0.374\n",
       "C06xactage   -0.270\n",
       "C07xactage   -0.170\n",
       "C08xactage   -0.077\n",
       "C09xactage    0.025\n",
       "C10xactage    0.136\n",
       "C11xactage    0.324\n",
       "C12xactage    0.468\n",
       "C13xactage    0.764\n",
       "dtype: float64"
      ]
     },
     "execution_count": 7,
     "metadata": {},
     "output_type": "execute_result"
    }
   ],
   "source": [
    "Weights = LatentSlopeWeights_Part1 - MiddleOfFullTrajectoryAge \n",
    "WEIGHTS = Weights/10\n",
    "WEIGHTS.round(3)"
   ]
  },
  {
   "cell_type": "code",
   "execution_count": 22,
   "id": "8f67d38a-5e88-4d32-92bc-13e5610f31ea",
   "metadata": {},
   "outputs": [],
   "source": [
    "WeightsForFullParentTrajectories = WEIGHTS.round(3).to_dict()\n",
    "NewKeys = ['W1','W2','W3','W4','W5','W6','W7','W8','W9','W10','W11','W12','W13']\n",
    "WeightsForFullParentTrajectories = dict(zip(NewKeys, WeightsForFullParentTrajectories.values()))"
   ]
  },
  {
   "cell_type": "code",
   "execution_count": 23,
   "id": "362d9f7a-274e-4c00-972e-d9058bc15f84",
   "metadata": {},
   "outputs": [
    {
     "data": {
      "text/plain": [
       "{'W1': -0.764,\n",
       " 'W2': -0.666,\n",
       " 'W3': -0.569,\n",
       " 'W4': -0.47,\n",
       " 'W5': -0.374,\n",
       " 'W6': -0.27,\n",
       " 'W7': -0.17,\n",
       " 'W8': -0.077,\n",
       " 'W9': 0.025,\n",
       " 'W10': 0.136,\n",
       " 'W11': 0.324,\n",
       " 'W12': 0.468,\n",
       " 'W13': 0.764}"
      ]
     },
     "execution_count": 23,
     "metadata": {},
     "output_type": "execute_result"
    }
   ],
   "source": [
    "WeightsForFullParentTrajectories"
   ]
  },
  {
   "cell_type": "code",
   "execution_count": 11,
   "id": "011cbd66-2de6-4390-bda1-21c818d33b9f",
   "metadata": {},
   "outputs": [],
   "source": [
    "ChildTrajecoryAgeDiff = LatentSlopeWeights_Part1['C13xactage']-LatentSlopeWeights_Part1['C05xactage']"
   ]
  },
  {
   "cell_type": "code",
   "execution_count": 12,
   "id": "f2a3f273-8a17-4ada-8fb0-0484f603538f",
   "metadata": {},
   "outputs": [],
   "source": [
    "ChildWeightsFromW5 = LatentSlopeWeights_Part1- ( LatentSlopeWeights_Part1['C05xactage'] + ChildTrajecoryAgeDiff/2)"
   ]
  },
  {
   "cell_type": "code",
   "execution_count": 24,
   "id": "99de4a3e-4e12-40fb-a258-b2f99fa4578d",
   "metadata": {},
   "outputs": [],
   "source": [
    "ChildWeightsFromW5_By10= ChildWeightsFromW5/10\n",
    "WeightsBasedOnFullChildTrajectories = ChildWeightsFromW5_By10.round(3).to_dict()\n",
    "WeightsBasedOnFullChildTrajectories = dict(zip(NewKeys,WeightsBasedOnFullChildTrajectories.values()))"
   ]
  },
  {
   "cell_type": "code",
   "execution_count": 25,
   "id": "92f99bd7-9099-4125-8cda-0b82cd5e7631",
   "metadata": {},
   "outputs": [
    {
     "data": {
      "text/plain": [
       "{'W1': -0.958,\n",
       " 'W2': -0.86,\n",
       " 'W3': -0.764,\n",
       " 'W4': -0.665,\n",
       " 'W5': -0.569,\n",
       " 'W6': -0.465,\n",
       " 'W7': -0.364,\n",
       " 'W8': -0.272,\n",
       " 'W9': -0.169,\n",
       " 'W10': -0.059,\n",
       " 'W11': 0.13,\n",
       " 'W12': 0.274,\n",
       " 'W13': 0.569}"
      ]
     },
     "execution_count": 25,
     "metadata": {},
     "output_type": "execute_result"
    }
   ],
   "source": [
    "WeightsBasedOnFullChildTrajectories"
   ]
  },
  {
   "cell_type": "code",
   "execution_count": 16,
   "id": "000f9a03-7817-4539-aaac-40aaba50795e",
   "metadata": {},
   "outputs": [],
   "source": [
    "def GenerateLatentSlopeString(Person,FullOrOverlap,Domain):\n",
    "    if FullOrOverlap == 'Full':\n",
    "        \n",
    "        if Person == 'Mom':\n",
    "             Waves = [1,3,5,7,10,11,12,13]\n",
    "        elif Person == 'Dad':\n",
    "             Waves = [1,3,5,7,11,12,13]\n",
    "\n",
    "        elif Person == 'Child':\n",
    "            return GenerateLatentSlopeString(Person,'Overlap',Domain) #just because it's easier to classify the child \"full\" trajectory in with the overlap models.\n",
    "            \n",
    "        Weights =  WeightsForFullParentTrajectories\n",
    "        \n",
    "    elif FullOrOverlap == 'Overlap':\n",
    "        \n",
    "        if Person == 'Mom' or Person == 'Child':\n",
    "            Waves = [5,7,10,11,12,13]\n",
    "        elif Person == \"Dad\":\n",
    "            Waves = [5,7,11,12,13]\n",
    "      \n",
    "        Weights = WeightsBasedOnFullChildTrajectories\n",
    "\n",
    "        \n",
    "    LatentSlopeFactorStringStart = Person+Domain+'Slope =~ '\n",
    "    LatentSlopeFactorRHBits = []\n",
    "    for W in Waves:\n",
    "        WaveMarker =  'W' + str(W)\n",
    "        Weight = Weights[WaveMarker]\n",
    "        LatentSlopeFactorRHBits.append(str(Weight)+'*'+ WaveMarker+Domain+'_'+Person)\n",
    "    return LatentSlopeFactorStringStart + '+'.join(LatentSlopeFactorRHBits)"
   ]
  },
  {
   "cell_type": "code",
   "execution_count": 17,
   "id": "653a7bc3-38f2-4464-976e-eaa4a7a052ee",
   "metadata": {},
   "outputs": [
    {
     "ename": "KeyError",
     "evalue": "'W5'",
     "output_type": "error",
     "traceback": [
      "\u001b[0;31m---------------------------------------------------------------------------\u001b[0m",
      "\u001b[0;31mKeyError\u001b[0m                                  Traceback (most recent call last)",
      "Cell \u001b[0;32mIn[17], line 1\u001b[0m\n\u001b[0;32m----> 1\u001b[0m \u001b[43mGenerateLatentSlopeString\u001b[49m\u001b[43m(\u001b[49m\u001b[38;5;124;43m'\u001b[39;49m\u001b[38;5;124;43mChild\u001b[39;49m\u001b[38;5;124;43m'\u001b[39;49m\u001b[43m,\u001b[49m\u001b[38;5;124;43m'\u001b[39;49m\u001b[38;5;124;43mFull\u001b[39;49m\u001b[38;5;124;43m'\u001b[39;49m\u001b[43m,\u001b[49m\u001b[38;5;124;43m'\u001b[39;49m\u001b[38;5;124;43mExtraversion\u001b[39;49m\u001b[38;5;124;43m'\u001b[39;49m\u001b[43m)\u001b[49m\n",
      "Cell \u001b[0;32mIn[16], line 10\u001b[0m, in \u001b[0;36mGenerateLatentSlopeString\u001b[0;34m(Person, FullOrOverlap, Domain)\u001b[0m\n\u001b[1;32m      7\u001b[0m          Waves \u001b[38;5;241m=\u001b[39m [\u001b[38;5;241m1\u001b[39m,\u001b[38;5;241m3\u001b[39m,\u001b[38;5;241m5\u001b[39m,\u001b[38;5;241m7\u001b[39m,\u001b[38;5;241m11\u001b[39m,\u001b[38;5;241m12\u001b[39m,\u001b[38;5;241m13\u001b[39m]\n\u001b[1;32m      9\u001b[0m     \u001b[38;5;28;01melif\u001b[39;00m Person \u001b[38;5;241m==\u001b[39m \u001b[38;5;124m'\u001b[39m\u001b[38;5;124mChild\u001b[39m\u001b[38;5;124m'\u001b[39m:\n\u001b[0;32m---> 10\u001b[0m         \u001b[38;5;28;01mreturn\u001b[39;00m \u001b[43mGenerateLatentSlopeString\u001b[49m\u001b[43m(\u001b[49m\u001b[43mPerson\u001b[49m\u001b[43m,\u001b[49m\u001b[38;5;124;43m'\u001b[39;49m\u001b[38;5;124;43mOverlap\u001b[39;49m\u001b[38;5;124;43m'\u001b[39;49m\u001b[43m,\u001b[49m\u001b[43mDomain\u001b[49m\u001b[43m)\u001b[49m \u001b[38;5;66;03m#just because it's easier to classify the child \"full\" trajectory in with the overlap models.\u001b[39;00m\n\u001b[1;32m     12\u001b[0m     Weights \u001b[38;5;241m=\u001b[39m  WeightsForFullParentTrajectories\n\u001b[1;32m     14\u001b[0m \u001b[38;5;28;01melif\u001b[39;00m FullOrOverlap \u001b[38;5;241m==\u001b[39m \u001b[38;5;124m'\u001b[39m\u001b[38;5;124mOverlap\u001b[39m\u001b[38;5;124m'\u001b[39m:\n",
      "Cell \u001b[0;32mIn[16], line 28\u001b[0m, in \u001b[0;36mGenerateLatentSlopeString\u001b[0;34m(Person, FullOrOverlap, Domain)\u001b[0m\n\u001b[1;32m     26\u001b[0m \u001b[38;5;28;01mfor\u001b[39;00m W \u001b[38;5;129;01min\u001b[39;00m Waves:\n\u001b[1;32m     27\u001b[0m     WaveMarker \u001b[38;5;241m=\u001b[39m  \u001b[38;5;124m'\u001b[39m\u001b[38;5;124mW\u001b[39m\u001b[38;5;124m'\u001b[39m \u001b[38;5;241m+\u001b[39m \u001b[38;5;28mstr\u001b[39m(W)\n\u001b[0;32m---> 28\u001b[0m     Weight \u001b[38;5;241m=\u001b[39m \u001b[43mWeights\u001b[49m\u001b[43m[\u001b[49m\u001b[43mWaveMarker\u001b[49m\u001b[43m]\u001b[49m\n\u001b[1;32m     29\u001b[0m     LatentSlopeFactorRHBits\u001b[38;5;241m.\u001b[39mappend(\u001b[38;5;28mstr\u001b[39m(Weight)\u001b[38;5;241m+\u001b[39m\u001b[38;5;124m'\u001b[39m\u001b[38;5;124m*\u001b[39m\u001b[38;5;124m'\u001b[39m\u001b[38;5;241m+\u001b[39m WaveMarker\u001b[38;5;241m+\u001b[39mDomain\u001b[38;5;241m+\u001b[39m\u001b[38;5;124m'\u001b[39m\u001b[38;5;124m_\u001b[39m\u001b[38;5;124m'\u001b[39m\u001b[38;5;241m+\u001b[39mPerson)\n\u001b[1;32m     30\u001b[0m \u001b[38;5;28;01mreturn\u001b[39;00m LatentSlopeFactorStringStart \u001b[38;5;241m+\u001b[39m \u001b[38;5;124m'\u001b[39m\u001b[38;5;124m+\u001b[39m\u001b[38;5;124m'\u001b[39m\u001b[38;5;241m.\u001b[39mjoin(LatentSlopeFactorRHBits)\n",
      "\u001b[0;31mKeyError\u001b[0m: 'W5'"
     ]
    }
   ],
   "source": [
    "GenerateLatentSlopeString('Child','Full','Extraversion')"
   ]
  },
  {
   "cell_type": "code",
   "execution_count": 72,
   "id": "d5505cbf-e119-4e03-8383-a612b1e0e6bd",
   "metadata": {},
   "outputs": [
    {
     "data": {
      "text/plain": [
       "'MomExtraversionSlope =~ -0.764*W1Extraversion_Mom+-0.569*W3Extraversion_Mom+-0.374*W5Extraversion_Mom+-0.17*W7Extraversion_Mom+0.136*W10Extraversion_Mom+0.324*W11Extraversion_Mom+0.468*W12Extraversion_Mom+0.764*W13Extraversion_Mom'"
      ]
     },
     "execution_count": 72,
     "metadata": {},
     "output_type": "execute_result"
    }
   ],
   "source": [
    "GenerateLatentSlopeString('Mom','Full','Extraversion')"
   ]
  },
  {
   "cell_type": "code",
   "execution_count": 15,
   "id": "f44db5f5-b19c-49b1-900c-cbef60739aaf",
   "metadata": {},
   "outputs": [
    {
     "ename": "NameError",
     "evalue": "name 'GenerateLatentSlopeString' is not defined",
     "output_type": "error",
     "traceback": [
      "\u001b[0;31m---------------------------------------------------------------------------\u001b[0m",
      "\u001b[0;31mNameError\u001b[0m                                 Traceback (most recent call last)",
      "Cell \u001b[0;32mIn[15], line 1\u001b[0m\n\u001b[0;32m----> 1\u001b[0m \u001b[43mGenerateLatentSlopeString\u001b[49m(\u001b[38;5;124m'\u001b[39m\u001b[38;5;124mDad\u001b[39m\u001b[38;5;124m'\u001b[39m,\u001b[38;5;124m'\u001b[39m\u001b[38;5;124mFull\u001b[39m\u001b[38;5;124m'\u001b[39m,\u001b[38;5;124m'\u001b[39m\u001b[38;5;124mExtraversion\u001b[39m\u001b[38;5;124m'\u001b[39m)\n",
      "\u001b[0;31mNameError\u001b[0m: name 'GenerateLatentSlopeString' is not defined"
     ]
    }
   ],
   "source": [
    "GenerateLatentSlopeString('Dad','Full','Extraversion')"
   ]
  },
  {
   "cell_type": "code",
   "execution_count": 78,
   "id": "bc7e281f-b247-4c13-9379-7b0b9aec8611",
   "metadata": {},
   "outputs": [
    {
     "data": {
      "text/plain": [
       "'ChildAgreeablenessSlope =~ -0.569*W5Agreeableness_Child+-0.364*W7Agreeableness_Child+-0.059*W10Agreeableness_Child+0.13*W11Agreeableness_Child+0.274*W12Agreeableness_Child+0.569*W13Agreeableness_Child'"
      ]
     },
     "execution_count": 78,
     "metadata": {},
     "output_type": "execute_result"
    }
   ],
   "source": [
    "GenerateLatentSlopeString('Child','Full','Agreeableness')"
   ]
  },
  {
   "cell_type": "code",
   "execution_count": 85,
   "id": "47a14293-47d4-4df3-ad40-a09cf11c18ce",
   "metadata": {},
   "outputs": [
    {
     "data": {
      "text/plain": [
       "'DadAgreeablenessSlope =~ -0.764*W1Agreeableness_Dad+-0.569*W3Agreeableness_Dad+-0.374*W5Agreeableness_Dad+-0.17*W7Agreeableness_Dad+0.324*W11Agreeableness_Dad+0.468*W12Agreeableness_Dad+0.764*W13Agreeableness_Dad'"
      ]
     },
     "execution_count": 85,
     "metadata": {},
     "output_type": "execute_result"
    }
   ],
   "source": [
    "GenerateLatentSlopeString('Dad','Full','Agreeableness')"
   ]
  },
  {
   "cell_type": "code",
   "execution_count": 82,
   "id": "71de48af-bd1c-4bf8-8e62-6824b1abb8b2",
   "metadata": {},
   "outputs": [
    {
     "data": {
      "text/plain": [
       "'MomAgreeablenessSlope =~ -0.569*W5Agreeableness_Mom+-0.364*W7Agreeableness_Mom+-0.059*W10Agreeableness_Mom+0.13*W11Agreeableness_Mom+0.274*W12Agreeableness_Mom+0.569*W13Agreeableness_Mom'"
      ]
     },
     "execution_count": 82,
     "metadata": {},
     "output_type": "execute_result"
    }
   ],
   "source": [
    "GenerateLatentSlopeString('Mom','Overlap','Agreeableness')"
   ]
  },
  {
   "cell_type": "code",
   "execution_count": 87,
   "id": "ad7a5d9f-bc02-494c-9e85-9d4c634e8123",
   "metadata": {},
   "outputs": [
    {
     "data": {
      "text/plain": [
       "'DadAgreeablenessSlope =~ -0.569*W5Agreeableness_Dad+-0.364*W7Agreeableness_Dad+0.13*W11Agreeableness_Dad+0.274*W12Agreeableness_Dad+0.569*W13Agreeableness_Dad'"
      ]
     },
     "execution_count": 87,
     "metadata": {},
     "output_type": "execute_result"
    }
   ],
   "source": [
    "GenerateLatentSlopeString('Dad','Overlap','Agreeableness')"
   ]
  },
  {
   "cell_type": "code",
   "execution_count": 106,
   "id": "473d429a-9d1a-4643-9a12-159e312fd78d",
   "metadata": {},
   "outputs": [
    {
     "data": {
      "text/plain": [
       "'DadConscientiousnessSlope =~ -0.569*W5Conscientiousness_Dad+-0.364*W7Conscientiousness_Dad+0.13*W11Conscientiousness_Dad+0.274*W12Conscientiousness_Dad+0.569*W13Conscientiousness_Dad'"
      ]
     },
     "execution_count": 106,
     "metadata": {},
     "output_type": "execute_result"
    }
   ],
   "source": [
    "GenerateLatentSlopeString('Dad','Overlap','Conscientiousness')"
   ]
  },
  {
   "cell_type": "code",
   "execution_count": 95,
   "id": "64a7ba8e-4488-4207-980b-5d8a7bcb5a40",
   "metadata": {},
   "outputs": [
    {
     "data": {
      "text/plain": [
       "'ChildNeuroticismSlope =~ -0.569*W5Neuroticism_Child+-0.364*W7Neuroticism_Child+-0.059*W10Neuroticism_Child+0.13*W11Neuroticism_Child+0.274*W12Neuroticism_Child+0.569*W13Neuroticism_Child'"
      ]
     },
     "execution_count": 95,
     "metadata": {},
     "output_type": "execute_result"
    }
   ],
   "source": [
    "GenerateLatentSlopeString('Child','Overlap','Neuroticism')"
   ]
  },
  {
   "cell_type": "code",
   "execution_count": 96,
   "id": "95e47e44-a633-4153-8af7-e4ee2e3b1e33",
   "metadata": {},
   "outputs": [
    {
     "data": {
      "text/plain": [
       "'MomNeuroticismSlope =~ -0.764*W1Neuroticism_Mom+-0.569*W3Neuroticism_Mom+-0.374*W5Neuroticism_Mom+-0.17*W7Neuroticism_Mom+0.136*W10Neuroticism_Mom+0.324*W11Neuroticism_Mom+0.468*W12Neuroticism_Mom+0.764*W13Neuroticism_Mom'"
      ]
     },
     "execution_count": 96,
     "metadata": {},
     "output_type": "execute_result"
    }
   ],
   "source": [
    "GenerateLatentSlopeString('Mom','Full','Neuroticism')"
   ]
  },
  {
   "cell_type": "code",
   "execution_count": 99,
   "id": "d78dca3b-e00f-4a01-bf6f-ee0e3fb9b705",
   "metadata": {},
   "outputs": [
    {
     "data": {
      "text/plain": [
       "'DadNeuroticismSlope =~ -0.569*W5Neuroticism_Dad+-0.364*W7Neuroticism_Dad+0.13*W11Neuroticism_Dad+0.274*W12Neuroticism_Dad+0.569*W13Neuroticism_Dad'"
      ]
     },
     "execution_count": 99,
     "metadata": {},
     "output_type": "execute_result"
    }
   ],
   "source": [
    "GenerateLatentSlopeString('Dad','Overlap','Neuroticism')"
   ]
  },
  {
   "cell_type": "code",
   "execution_count": 104,
   "id": "e720919c-9998-4eb5-a914-4e1ce2cbf6ce",
   "metadata": {},
   "outputs": [
    {
     "data": {
      "text/plain": [
       "'DadOpennesssSlope =~ -0.569*W5Opennesss_Dad+-0.364*W7Opennesss_Dad+0.13*W11Opennesss_Dad+0.274*W12Opennesss_Dad+0.569*W13Opennesss_Dad'"
      ]
     },
     "execution_count": 104,
     "metadata": {},
     "output_type": "execute_result"
    }
   ],
   "source": [
    "GenerateLatentSlopeString('Dad','Overlap','Opennesss')"
   ]
  },
  {
   "cell_type": "code",
   "execution_count": null,
   "id": "7bd899b6-4760-4e90-9143-6a2502f0b493",
   "metadata": {},
   "outputs": [],
   "source": []
  }
 ],
 "metadata": {
  "kernelspec": {
   "display_name": "Python 3 (ipykernel)",
   "language": "python",
   "name": "python3"
  },
  "language_info": {
   "codemirror_mode": {
    "name": "ipython",
    "version": 3
   },
   "file_extension": ".py",
   "mimetype": "text/x-python",
   "name": "python",
   "nbconvert_exporter": "python",
   "pygments_lexer": "ipython3",
   "version": "3.11.8"
  }
 },
 "nbformat": 4,
 "nbformat_minor": 5
}
